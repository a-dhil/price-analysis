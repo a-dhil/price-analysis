{
 "cells": [
  {
   "cell_type": "markdown",
   "metadata": {},
   "source": [
    " # Price Anlaysis "
   ]
  },
  {
   "cell_type": "code",
   "execution_count": 3,
   "metadata": {},
   "outputs": [
    {
     "data": {
      "text/html": [
       "<div>\n",
       "<style scoped>\n",
       "    .dataframe tbody tr th:only-of-type {\n",
       "        vertical-align: middle;\n",
       "    }\n",
       "\n",
       "    .dataframe tbody tr th {\n",
       "        vertical-align: top;\n",
       "    }\n",
       "\n",
       "    .dataframe thead th {\n",
       "        text-align: right;\n",
       "    }\n",
       "</style>\n",
       "<table border=\"1\" class=\"dataframe\">\n",
       "  <thead>\n",
       "    <tr style=\"text-align: right;\">\n",
       "      <th></th>\n",
       "      <th>Product</th>\n",
       "      <th>Category</th>\n",
       "      <th>Cost_per_Unit</th>\n",
       "      <th>Price_per_Unit</th>\n",
       "      <th>Units_Sold</th>\n",
       "      <th>Revenue</th>\n",
       "      <th>Profit</th>\n",
       "    </tr>\n",
       "  </thead>\n",
       "  <tbody>\n",
       "    <tr>\n",
       "      <th>0</th>\n",
       "      <td>Apples</td>\n",
       "      <td>Produce</td>\n",
       "      <td>0.83</td>\n",
       "      <td>3.54</td>\n",
       "      <td>175</td>\n",
       "      <td>619.50</td>\n",
       "      <td>474.25</td>\n",
       "    </tr>\n",
       "    <tr>\n",
       "      <th>1</th>\n",
       "      <td>Eggs</td>\n",
       "      <td>Dairy</td>\n",
       "      <td>1.85</td>\n",
       "      <td>2.36</td>\n",
       "      <td>429</td>\n",
       "      <td>1012.44</td>\n",
       "      <td>218.79</td>\n",
       "    </tr>\n",
       "    <tr>\n",
       "      <th>2</th>\n",
       "      <td>Tomato Soup</td>\n",
       "      <td>Canned Goods</td>\n",
       "      <td>1.12</td>\n",
       "      <td>3.11</td>\n",
       "      <td>65</td>\n",
       "      <td>202.15</td>\n",
       "      <td>129.35</td>\n",
       "    </tr>\n",
       "    <tr>\n",
       "      <th>3</th>\n",
       "      <td>Bacon</td>\n",
       "      <td>Meat</td>\n",
       "      <td>4.92</td>\n",
       "      <td>8.79</td>\n",
       "      <td>63</td>\n",
       "      <td>553.77</td>\n",
       "      <td>243.81</td>\n",
       "    </tr>\n",
       "    <tr>\n",
       "      <th>4</th>\n",
       "      <td>Tomato Soup</td>\n",
       "      <td>Canned Goods</td>\n",
       "      <td>1.54</td>\n",
       "      <td>4.25</td>\n",
       "      <td>329</td>\n",
       "      <td>1398.25</td>\n",
       "      <td>891.59</td>\n",
       "    </tr>\n",
       "  </tbody>\n",
       "</table>\n",
       "</div>"
      ],
      "text/plain": [
       "       Product      Category  Cost_per_Unit  Price_per_Unit  Units_Sold  \\\n",
       "0       Apples       Produce           0.83            3.54         175   \n",
       "1         Eggs         Dairy           1.85            2.36         429   \n",
       "2  Tomato Soup  Canned Goods           1.12            3.11          65   \n",
       "3        Bacon          Meat           4.92            8.79          63   \n",
       "4  Tomato Soup  Canned Goods           1.54            4.25         329   \n",
       "\n",
       "   Revenue  Profit  \n",
       "0   619.50  474.25  \n",
       "1  1012.44  218.79  \n",
       "2   202.15  129.35  \n",
       "3   553.77  243.81  \n",
       "4  1398.25  891.59  "
      ]
     },
     "execution_count": 3,
     "metadata": {},
     "output_type": "execute_result"
    }
   ],
   "source": [
    "# import dependencies \n",
    "import pandas as pd\n",
    "from pathlib import Path\n",
    "\n",
    "# File to Load \n",
    "price_data_to_load = Path(\"Resources/pricing_analysis_dataset.csv\")\n",
    "\n",
    "# Read data and store into pandas Dataframe\n",
    "\n",
    "price_data=pd.read_csv(price_data_to_load )\n",
    "\n",
    "price_data.head()"
   ]
  },
  {
   "cell_type": "code",
   "execution_count": null,
   "metadata": {},
   "outputs": [],
   "source": []
  }
 ],
 "metadata": {
  "kernelspec": {
   "display_name": "dev",
   "language": "python",
   "name": "python3"
  },
  "language_info": {
   "codemirror_mode": {
    "name": "ipython",
    "version": 3
   },
   "file_extension": ".py",
   "mimetype": "text/x-python",
   "name": "python",
   "nbconvert_exporter": "python",
   "pygments_lexer": "ipython3",
   "version": "3.11.5"
  }
 },
 "nbformat": 4,
 "nbformat_minor": 2
}
